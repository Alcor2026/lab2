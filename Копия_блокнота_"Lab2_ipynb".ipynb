{
  "nbformat": 4,
  "nbformat_minor": 0,
  "metadata": {
    "colab": {
      "provenance": [],
      "collapsed_sections": [],
      "include_colab_link": true
    },
    "kernelspec": {
      "name": "python3",
      "display_name": "Python 3"
    },
    "language_info": {
      "name": "python"
    }
  },
  "cells": [
    {
      "cell_type": "markdown",
      "metadata": {
        "id": "view-in-github",
        "colab_type": "text"
      },
      "source": [
        "<a href=\"https://colab.research.google.com/github/Alcor2026/lab2/blob/main/%D0%9A%D0%BE%D0%BF%D0%B8%D1%8F_%D0%B1%D0%BB%D0%BE%D0%BA%D0%BD%D0%BE%D1%82%D0%B0_%22Lab2_ipynb%22.ipynb\" target=\"_parent\"><img src=\"https://colab.research.google.com/assets/colab-badge.svg\" alt=\"Open In Colab\"/></a>"
      ]
    },
    {
      "cell_type": "markdown",
      "metadata": {
        "id": "LF8GjRbUNJXo"
      },
      "source": [
        "# Задание 0 (1 балл)"
      ]
    },
    {
      "cell_type": "markdown",
      "metadata": {
        "id": "JHNIGB9xJihd"
      },
      "source": [
        "Данные, которые нужно использовать для выполнения задания, возьмите [здесь](https://www.kaggle.com/parulpandey/palmer-archipelago-antarctica-penguin-data).\n",
        "\n",
        "Данные расположены в двух таблицах: **penguins_iter** и **penguins_size**. Для этой лабораторной работы вам понадобится только таблица **penguins_size**.\n",
        "\n",
        "**penguins_size** содержит следующую информацию:\n",
        "* `species`: вид, к которому относится пингвин\n",
        "* `culmen_length_mm`: длина клюва\n",
        "* `culmen_depth_mm`: глубина клюва\n",
        "* `flipper_length_mm`: длина ласт\n",
        "* `body_mass_g`: масса тела\n",
        "* `island`: название острова, на котором пингвин обитает\n",
        "* `sex`: пол пингвина\n",
        "\n"
      ]
    },
    {
      "cell_type": "markdown",
      "metadata": {
        "id": "mY64YTl_M8Ch"
      },
      "source": [
        "1. Загрузите файл с данными к себе на Гугл диск и подключите его в Google Colab через `mount.drive`.\n",
        "2. Выведите общую статистику по всем числовым и нечисловым столбцам с помощью функции `describe()`.\n",
        "3. Узнайте размеры датасета с помощью функции `shape`.\n",
        "4. Выведите 4 первые строки датасета."
      ]
    },
    {
      "cell_type": "code",
      "metadata": {
        "id": "jGJgLRDXNGjN",
        "colab": {
          "base_uri": "https://localhost:8080/"
        },
        "outputId": "9afdcfdc-2300-4109-8f66-2bd161b5fa7c"
      },
      "source": [
        "import pandas as pd\n",
        "import numpy as np\n",
        "\n",
        "pinguins = pd.read_csv(\"/content/sample_data/penguins_size.csv\")\n",
        "print(\"общая статистика:\")\n",
        "print(pinguins.describe())\n",
        "print(\"\\nРазмер:\")\n",
        "print(pinguins.shape)"
      ],
      "execution_count": null,
      "outputs": [
        {
          "output_type": "stream",
          "name": "stdout",
          "text": [
            "общая статистика:\n",
            "       culmen_length_mm  culmen_depth_mm  flipper_length_mm  body_mass_g\n",
            "count        342.000000       342.000000         342.000000   342.000000\n",
            "mean          43.921930        17.151170         200.915205  4201.754386\n",
            "std            5.459584         1.974793          14.061714   801.954536\n",
            "min           32.100000        13.100000         172.000000  2700.000000\n",
            "25%           39.225000        15.600000         190.000000  3550.000000\n",
            "50%           44.450000        17.300000         197.000000  4050.000000\n",
            "75%           48.500000        18.700000         213.000000  4750.000000\n",
            "max           59.600000        21.500000         231.000000  6300.000000\n",
            "\n",
            "Размер:\n",
            "(344, 7)\n"
          ]
        }
      ]
    },
    {
      "cell_type": "markdown",
      "metadata": {
        "id": "5YqJrXCxIxuI"
      },
      "source": [
        "# Задание 1 (1 балл)"
      ]
    },
    {
      "cell_type": "markdown",
      "metadata": {
        "id": "fDuzlPwPOWzv"
      },
      "source": [
        "1. Узнайте, сколько видов пингвинов представлено в таблице.\n",
        "2. Посчитайте долю пингвинов каждого вида.\n",
        "3. Выведите количество пингвинов, обитающих на каждом из островов."
      ]
    },
    {
      "cell_type": "code",
      "metadata": {
        "id": "RqURVZSOIvfO",
        "colab": {
          "base_uri": "https://localhost:8080/"
        },
        "outputId": "8a4d728b-3b31-4828-a819-6ad13caf4697"
      },
      "source": [
        "from pandas._libs.tslibs.vectorized import normalize_i8_timestamps\n",
        "print(\"Количество видов:\")\n",
        "print(len(pinguins.species.unique()))\n",
        "print(\"\\nДоля пингвинов каждого вида:\")\n",
        "print(pinguins.species.value_counts(normalize=True))\n",
        "print(\"\\nКоличество пингвинов, обитающих на каждом из островов:\")\n",
        "print(pinguins.island.value_counts())\n",
        "    "
      ],
      "execution_count": null,
      "outputs": [
        {
          "output_type": "stream",
          "name": "stdout",
          "text": [
            "Количество видов:\n",
            "3\n",
            "\n",
            "Доля пингвинов каждого вида:\n",
            "Adelie       0.441860\n",
            "Gentoo       0.360465\n",
            "Chinstrap    0.197674\n",
            "Name: species, dtype: float64\n",
            "\n",
            "Количество пингвинов, обитающих на каждом из островов:\n",
            "Biscoe       168\n",
            "Dream        124\n",
            "Torgersen     52\n",
            "Name: island, dtype: int64\n"
          ]
        }
      ]
    },
    {
      "cell_type": "markdown",
      "metadata": {
        "id": "j1NfVIONI2dW"
      },
      "source": [
        "# Задание 2 (1 балл)"
      ]
    },
    {
      "cell_type": "markdown",
      "metadata": {
        "id": "fSXbSRCZOsgg"
      },
      "source": [
        "1. Найдите id пингвина с самым длинным клювом и с самым коротким. Выведите всю информацию о каждом из этих пингвинов в виде одной таблицы.\n",
        "2. Посчитайте, насколько самый длинный клюв длиннее самого короткого."
      ]
    },
    {
      "cell_type": "code",
      "metadata": {
        "id": "dch9AAIrI2dZ"
      },
      "source": [],
      "execution_count": null,
      "outputs": []
    },
    {
      "cell_type": "markdown",
      "metadata": {
        "id": "gQd_Jgn2I2lL"
      },
      "source": [
        "# Задание 3 (1 балл)"
      ]
    },
    {
      "cell_type": "markdown",
      "metadata": {
        "id": "ymI_48D_PddK"
      },
      "source": [
        "1. Постройте корреляционную матрицу для значений столбцов `culmen_length_mm`, `culmen_depth_mm`, `flipper_length_mm`, `body_mass_g`. \n",
        "2. Результат покажите на тепловой карте (heatmap)."
      ]
    },
    {
      "cell_type": "code",
      "metadata": {
        "id": "NliQL8sUI2lO",
        "colab": {
          "base_uri": "https://localhost:8080/",
          "height": 175
        },
        "outputId": "2fd7d645-9ba5-413d-fe1f-14fa87dbe885"
      },
      "source": [
        "pinguins[[\"culmen_length_mm\", \"culmen_depth_mm\", \"flipper_length_mm\", \"body_mass_g\"]].corr().style.background_gradient(cmap='cool')"
      ],
      "execution_count": null,
      "outputs": [
        {
          "output_type": "execute_result",
          "data": {
            "text/plain": [
              "<pandas.io.formats.style.Styler at 0x7f213d4a56d0>"
            ],
            "text/html": [
              "<style type=\"text/css\">\n",
              "#T_c2394_row0_col0, #T_c2394_row1_col1, #T_c2394_row2_col2, #T_c2394_row3_col3 {\n",
              "  background-color: #ff00ff;\n",
              "  color: #f1f1f1;\n",
              "}\n",
              "#T_c2394_row0_col1 {\n",
              "  background-color: #38c7ff;\n",
              "  color: #000000;\n",
              "}\n",
              "#T_c2394_row0_col2 {\n",
              "  background-color: #c837ff;\n",
              "  color: #f1f1f1;\n",
              "}\n",
              "#T_c2394_row0_col3 {\n",
              "  background-color: #b946ff;\n",
              "  color: #f1f1f1;\n",
              "}\n",
              "#T_c2394_row1_col0, #T_c2394_row1_col2, #T_c2394_row1_col3, #T_c2394_row2_col1 {\n",
              "  background-color: #00ffff;\n",
              "  color: #000000;\n",
              "}\n",
              "#T_c2394_row2_col0 {\n",
              "  background-color: #b847ff;\n",
              "  color: #f1f1f1;\n",
              "}\n",
              "#T_c2394_row2_col3 {\n",
              "  background-color: #e916ff;\n",
              "  color: #f1f1f1;\n",
              "}\n",
              "#T_c2394_row3_col0 {\n",
              "  background-color: #ac53ff;\n",
              "  color: #f1f1f1;\n",
              "}\n",
              "#T_c2394_row3_col1 {\n",
              "  background-color: #12edff;\n",
              "  color: #000000;\n",
              "}\n",
              "#T_c2394_row3_col2 {\n",
              "  background-color: #eb14ff;\n",
              "  color: #f1f1f1;\n",
              "}\n",
              "</style>\n",
              "<table id=\"T_c2394_\" class=\"dataframe\">\n",
              "  <thead>\n",
              "    <tr>\n",
              "      <th class=\"blank level0\" >&nbsp;</th>\n",
              "      <th class=\"col_heading level0 col0\" >culmen_length_mm</th>\n",
              "      <th class=\"col_heading level0 col1\" >culmen_depth_mm</th>\n",
              "      <th class=\"col_heading level0 col2\" >flipper_length_mm</th>\n",
              "      <th class=\"col_heading level0 col3\" >body_mass_g</th>\n",
              "    </tr>\n",
              "  </thead>\n",
              "  <tbody>\n",
              "    <tr>\n",
              "      <th id=\"T_c2394_level0_row0\" class=\"row_heading level0 row0\" >culmen_length_mm</th>\n",
              "      <td id=\"T_c2394_row0_col0\" class=\"data row0 col0\" >1.000000</td>\n",
              "      <td id=\"T_c2394_row0_col1\" class=\"data row0 col1\" >-0.235053</td>\n",
              "      <td id=\"T_c2394_row0_col2\" class=\"data row0 col2\" >0.656181</td>\n",
              "      <td id=\"T_c2394_row0_col3\" class=\"data row0 col3\" >0.595110</td>\n",
              "    </tr>\n",
              "    <tr>\n",
              "      <th id=\"T_c2394_level0_row1\" class=\"row_heading level0 row1\" >culmen_depth_mm</th>\n",
              "      <td id=\"T_c2394_row1_col0\" class=\"data row1 col0\" >-0.235053</td>\n",
              "      <td id=\"T_c2394_row1_col1\" class=\"data row1 col1\" >1.000000</td>\n",
              "      <td id=\"T_c2394_row1_col2\" class=\"data row1 col2\" >-0.583851</td>\n",
              "      <td id=\"T_c2394_row1_col3\" class=\"data row1 col3\" >-0.471916</td>\n",
              "    </tr>\n",
              "    <tr>\n",
              "      <th id=\"T_c2394_level0_row2\" class=\"row_heading level0 row2\" >flipper_length_mm</th>\n",
              "      <td id=\"T_c2394_row2_col0\" class=\"data row2 col0\" >0.656181</td>\n",
              "      <td id=\"T_c2394_row2_col1\" class=\"data row2 col1\" >-0.583851</td>\n",
              "      <td id=\"T_c2394_row2_col2\" class=\"data row2 col2\" >1.000000</td>\n",
              "      <td id=\"T_c2394_row2_col3\" class=\"data row2 col3\" >0.871202</td>\n",
              "    </tr>\n",
              "    <tr>\n",
              "      <th id=\"T_c2394_level0_row3\" class=\"row_heading level0 row3\" >body_mass_g</th>\n",
              "      <td id=\"T_c2394_row3_col0\" class=\"data row3 col0\" >0.595110</td>\n",
              "      <td id=\"T_c2394_row3_col1\" class=\"data row3 col1\" >-0.471916</td>\n",
              "      <td id=\"T_c2394_row3_col2\" class=\"data row3 col2\" >0.871202</td>\n",
              "      <td id=\"T_c2394_row3_col3\" class=\"data row3 col3\" >1.000000</td>\n",
              "    </tr>\n",
              "  </tbody>\n",
              "</table>\n"
            ]
          },
          "metadata": {},
          "execution_count": 40
        }
      ]
    },
    {
      "cell_type": "markdown",
      "metadata": {
        "id": "iec_syqwI20p"
      },
      "source": [
        "# Задание 4 (2 балла)"
      ]
    },
    {
      "cell_type": "markdown",
      "metadata": {
        "id": "XixgeBv_QAGx"
      },
      "source": [
        "1. О пингвинах какого вида в таблице больше всего недостающих данных? (Строк с `NaN`)\n",
        "2. Какой информации о пингвинах чаще всего не хватает?"
      ]
    },
    {
      "cell_type": "code",
      "metadata": {
        "id": "YvjhDawkI20q",
        "colab": {
          "base_uri": "https://localhost:8080/"
        },
        "outputId": "5c81bb40-9133-4921-e905-29370677978e"
      },
      "source": [
        "counters = {spec: 0 for spec in pinguins.species.unique()} \n",
        "\n",
        "for index, row in pinguins.iterrows():\n",
        "\n",
        "\n",
        "  cNaN = row.isnull().sum()\n",
        "  counters[row.species] += cNaN\n",
        "\n",
        "print(\"О пингвинах этого вида в таблице больше всего недостающих данных: \" + max(counters, key=counters.get))\n",
        "\n",
        "\n",
        "print(\"Чаще всего нехватает информации о \" + pinguins.isnull().sum(axis=0).idxmax())"
      ],
      "execution_count": null,
      "outputs": [
        {
          "output_type": "stream",
          "name": "stdout",
          "text": [
            "О пингвинах этого вида в таблице больше всего недостающих данных: Adelie\n",
            "Чаще всего нехватает информации о sex\n"
          ]
        }
      ]
    },
    {
      "cell_type": "markdown",
      "metadata": {
        "id": "UG5AAwX7I3Eh"
      },
      "source": [
        "# Задание 5 (2 балла)"
      ]
    },
    {
      "cell_type": "markdown",
      "metadata": {
        "id": "lN06XT2gQv-L"
      },
      "source": [
        "1. По данным из таблицы узнайте, равномерно ли демографиески (процент мужских и женских особей) пингвины распределены по каждому из островов. Считаем, что равномерно, если разница составляет не более 3%.\n",
        "2. Результат покажите на столбиковой диаграмме."
      ]
    },
    {
      "cell_type": "code",
      "metadata": {
        "id": "XE0kXrP3I3Ei"
      },
      "source": [
        "# PUT YOUR CODE HERE"
      ],
      "execution_count": null,
      "outputs": []
    },
    {
      "cell_type": "markdown",
      "metadata": {
        "id": "j0J6p25sI3MU"
      },
      "source": [
        "# Задание 6 (2 балла)"
      ]
    },
    {
      "cell_type": "markdown",
      "metadata": {
        "id": "f4aax6eARC9D"
      },
      "source": [
        "1. Считая, что длина ласт пингвина составляет треть его роста, рассчитайте индекс массы тела каждого пингвина. Определите самый крупный вид.\n",
        "2. В каком количестве популяция этого вида представлена на каждом из островов? Результат покажите на круговой диаграмме."
      ]
    },
    {
      "cell_type": "code",
      "metadata": {
        "id": "de8g7fqQI3MV"
      },
      "source": [
        "# PUT YOUR CODE HERE"
      ],
      "execution_count": null,
      "outputs": []
    }
  ]
}